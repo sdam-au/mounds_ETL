{
  "nbformat": 4,
  "nbformat_minor": 0,
  "metadata": {
    "colab": {
      "name": "EXPLORING-SPATIALITY.ipynb",
      "provenance": [],
      "authorship_tag": "ABX9TyPHIjWrWPUG71tTBpdO0GNz",
      "include_colab_link": true
    },
    "kernelspec": {
      "name": "python3",
      "display_name": "Python 3"
    }
  },
  "cells": [
    {
      "cell_type": "markdown",
      "metadata": {
        "id": "view-in-github",
        "colab_type": "text"
      },
      "source": [
        "<a href=\"https://colab.research.google.com/github/sdam-au/mounds_ETL/blob/master/scripts/EXPLORING_SPATIALITY.ipynb\" target=\"_parent\"><img src=\"https://colab.research.google.com/assets/colab-badge.svg\" alt=\"Open In Colab\"/></a>"
      ]
    },
    {
      "cell_type": "code",
      "metadata": {
        "id": "l342z1UBCZdr",
        "colab_type": "code",
        "colab": {}
      },
      "source": [
        ""
      ],
      "execution_count": 0,
      "outputs": []
    },
    {
      "cell_type": "markdown",
      "metadata": {
        "id": "6DzIDfp-WH0n",
        "colab_type": "text"
      },
      "source": [
        "Some spatial analysis require some very specific libraries, requiring rather complex installation. It perhaps does not look good here, but it is still rather straighforward.\n",
        "\n",
        "In particular, some advanced spatial indexing requires libspatialindex library based on C.\n",
        "\n",
        "For explanation of the installation steps see:  https://stackoverflow.com/questions/48293601/how-to-install-libspatialindex-on-google-collaboratory\n",
        "\n",
        "\n",
        "Step by step, I will implement here analysis steps explored in [this Colab Notebook](https://colab.research.google.com/drive/1Dc6kUnD3YS1-T5x7yDbLC5G9cvZ-8T_K?usp=sharing) and learning on the go.\n"
      ]
    },
    {
      "cell_type": "code",
      "metadata": {
        "id": "HfpmNmvqSTcF",
        "colab_type": "code",
        "colab": {}
      },
      "source": [
        "%%capture\n",
        "\n",
        "### %capture magic word is here to hide otherwise very complex output of the cell.\n",
        "### some advanced spatial indexing requires libspatialindex library based on C\n",
        "### to use it in google colab, use the following script\n",
        "\n",
        "!curl -L http://download.osgeo.org/libspatialindex/spatialindex-src-1.8.5.tar.gz 2>/dev/null | tar xz\n",
        "!apt-get install -qq g++ make\n",
        "import os\n",
        "os.chdir('/content/spatialindex-src-1.8.5')\n",
        "!mount -o remount,exec /content\n",
        "!./configure 2>&1 >/dev/null && make 2>&1 >/dev/null && make install && ldconfig\n",
        "!pip install -q rtree"
      ],
      "execution_count": 0,
      "outputs": []
    },
    {
      "cell_type": "code",
      "metadata": {
        "id": "E5vJ0KIqRgho",
        "colab_type": "code",
        "colab": {}
      },
      "source": [
        "%%capture\n",
        "\n",
        "### packages for working with spatial data\n",
        "!pip install contextily==1.0rc2 # see basemaps\n",
        "import contextily as ctx #\n",
        "import shapely # geometries, e.g. \"POINT (23931.23 45492.17)\"\n",
        "!pip install --ignore-installed geopandas \n",
        "import geopandas # pandas DataFrame + geometry\n",
        "!pip install pyshp\n",
        "import shapefile # to work with shapefiles\n",
        "!pip install pysal\n",
        "import pysal\n",
        "!pip install mapclassify # to parametrize colorscale maps\n",
        "import mapclassify"
      ],
      "execution_count": 0,
      "outputs": []
    },
    {
      "cell_type": "code",
      "metadata": {
        "id": "FPsp7vSjSVRE",
        "colab_type": "code",
        "colab": {}
      },
      "source": [
        "from rtree import index\n",
        "from rtree.index import Rtree"
      ],
      "execution_count": 0,
      "outputs": []
    }
  ]
}